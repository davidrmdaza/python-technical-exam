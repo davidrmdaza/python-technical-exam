{
 "cells": [
  {
   "cell_type": "markdown",
   "id": "55d910df",
   "metadata": {},
   "source": [
    "### PROBLEM C\n",
    "Write a rotate(A, k) function which returns a rotated array A, k times; that is, each\n",
    "element of A will be shifted to the right k times\n",
    "- rotate([3, 8, 9, 7, 6], 3) returns [9, 7, 6, 3, 8]\n",
    "- rotate([0, 0, 0], 1) returns [0, 0, 0]\n",
    "- rotate([1, 2, 3, 4], 4) returns [1, 2, 3, 4]\n"
   ]
  },
  {
   "cell_type": "code",
   "execution_count": 27,
   "id": "26e89bfe",
   "metadata": {},
   "outputs": [],
   "source": [
    "from typing import List\n",
    "\n",
    "def rotate(A: List[int], k: int) -> List[int]:\n",
    "    #reduce k\n",
    "    while abs(k) > len(A):\n",
    "        k -=len(A)\n",
    "    result = [A[i-k] for i in range(len(A))]\n",
    "    return result"
   ]
  },
  {
   "cell_type": "code",
   "execution_count": 26,
   "id": "6d6a9422",
   "metadata": {},
   "outputs": [
    {
     "name": "stdout",
     "output_type": "stream",
     "text": [
      "[4, 1, 2, 3]\n",
      "[3, 4, 1, 2]\n",
      "[2, 3, 4, 1]\n",
      "[1, 2, 3, 4]\n",
      "[1, 2, 3, 4]\n",
      "[9, 7, 6, 3, 8]\n",
      "[0, 0, 0]\n"
     ]
    }
   ],
   "source": [
    "assert(rotate([1, 2, 3, 4], 1) == [4,1,2,3])\n",
    "assert(rotate([1, 2, 3, 4], 2) == [3,4,1,2])\n",
    "assert(rotate([1, 2, 3, 4], 3) == [2,3,4,1])\n",
    "assert(rotate([1, 2, 3, 4], 4) == [1,2,3,4])\n",
    "assert(rotate([1, 2, 3, 4], 4000) == [1,2,3,4])\n",
    "assert(rotate([3, 8, 9, 7, 6], 3) == [9, 7, 6, 3, 8])\n",
    "assert(rotate([0, 0, 0,], 1) == [0, 0, 0,])"
   ]
  },
  {
   "cell_type": "markdown",
   "id": "32756211",
   "metadata": {},
   "source": [
    "### Problem B\n",
    "\n",
    "Write a function find_divisible(a, b, k) that accepts three integers: a, b and k, and returns\n",
    "the count of the numbers between a and b that are divisible by k\n",
    "- find_divisible(6,11,2) should return 3\n",
    "- find_divisible(0,11,2) should return 6"
   ]
  },
  {
   "cell_type": "code",
   "execution_count": 35,
   "id": "86623320",
   "metadata": {},
   "outputs": [],
   "source": [
    "#use and a and b for range; what if negative?\n",
    "#use modulo to determine if value is divisible\n",
    "def find_divisible(a: int, b: int, k: int) -> int:\n",
    "    if a > b: return 0\n",
    "    result = [ i for i in range(a,b) if i%k==0]\n",
    "    return len(result)\n"
   ]
  },
  {
   "cell_type": "code",
   "execution_count": 36,
   "id": "895797e7",
   "metadata": {},
   "outputs": [],
   "source": [
    "assert(find_divisible(6,11,2) == 3)\n",
    "assert(find_divisible(0,11,2) == 6)\n",
    "assert(find_divisible(9,-11,2) == 0)\n",
    "assert(find_divisible(-100,100,10) == 20)"
   ]
  }
 ],
 "metadata": {
  "kernelspec": {
   "display_name": ".conda",
   "language": "python",
   "name": "python3"
  },
  "language_info": {
   "codemirror_mode": {
    "name": "ipython",
    "version": 3
   },
   "file_extension": ".py",
   "mimetype": "text/x-python",
   "name": "python",
   "nbconvert_exporter": "python",
   "pygments_lexer": "ipython3",
   "version": "3.9.19"
  }
 },
 "nbformat": 4,
 "nbformat_minor": 5
}
